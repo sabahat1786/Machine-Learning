{
 "cells": [
  {
   "cell_type": "code",
   "execution_count": null,
   "id": "fbae5d30",
   "metadata": {},
   "outputs": [],
   "source": []
  },
  {
   "cell_type": "code",
   "execution_count": 6,
   "id": "6317276e",
   "metadata": {},
   "outputs": [],
   "source": [
    "import pandas as pd\n",
    "import numpy as np\n",
    "import matplotlib.pyplot as plt"
   ]
  },
  {
   "cell_type": "markdown",
   "id": "bd3cc777",
   "metadata": {},
   "source": [
    "Importing Dataset and Displaying Dataset"
   ]
  },
  {
   "cell_type": "code",
   "execution_count": 7,
   "id": "547f6903",
   "metadata": {},
   "outputs": [
    {
     "data": {
      "text/html": [
       "<div>\n",
       "<style scoped>\n",
       "    .dataframe tbody tr th:only-of-type {\n",
       "        vertical-align: middle;\n",
       "    }\n",
       "\n",
       "    .dataframe tbody tr th {\n",
       "        vertical-align: top;\n",
       "    }\n",
       "\n",
       "    .dataframe thead th {\n",
       "        text-align: right;\n",
       "    }\n",
       "</style>\n",
       "<table border=\"1\" class=\"dataframe\">\n",
       "  <thead>\n",
       "    <tr style=\"text-align: right;\">\n",
       "      <th></th>\n",
       "      <th>Country</th>\n",
       "      <th>Age</th>\n",
       "      <th>Salary</th>\n",
       "      <th>Purchased</th>\n",
       "    </tr>\n",
       "  </thead>\n",
       "  <tbody>\n",
       "    <tr>\n",
       "      <th>0</th>\n",
       "      <td>France</td>\n",
       "      <td>44.0</td>\n",
       "      <td>72000.0</td>\n",
       "      <td>No</td>\n",
       "    </tr>\n",
       "    <tr>\n",
       "      <th>1</th>\n",
       "      <td>Spain</td>\n",
       "      <td>27.0</td>\n",
       "      <td>48000.0</td>\n",
       "      <td>Yes</td>\n",
       "    </tr>\n",
       "    <tr>\n",
       "      <th>2</th>\n",
       "      <td>Germany</td>\n",
       "      <td>30.0</td>\n",
       "      <td>54000.0</td>\n",
       "      <td>No</td>\n",
       "    </tr>\n",
       "    <tr>\n",
       "      <th>3</th>\n",
       "      <td>Spain</td>\n",
       "      <td>38.0</td>\n",
       "      <td>61000.0</td>\n",
       "      <td>No</td>\n",
       "    </tr>\n",
       "    <tr>\n",
       "      <th>4</th>\n",
       "      <td>Germany</td>\n",
       "      <td>40.0</td>\n",
       "      <td>NaN</td>\n",
       "      <td>Yes</td>\n",
       "    </tr>\n",
       "  </tbody>\n",
       "</table>\n",
       "</div>"
      ],
      "text/plain": [
       "   Country   Age   Salary Purchased\n",
       "0   France  44.0  72000.0        No\n",
       "1    Spain  27.0  48000.0       Yes\n",
       "2  Germany  30.0  54000.0        No\n",
       "3    Spain  38.0  61000.0        No\n",
       "4  Germany  40.0      NaN       Yes"
      ]
     },
     "execution_count": 7,
     "metadata": {},
     "output_type": "execute_result"
    }
   ],
   "source": [
    "dataset = pd.read_csv('Data.csv')\n",
    "dataset.head()"
   ]
  },
  {
   "cell_type": "markdown",
   "id": "ba5960bd",
   "metadata": {},
   "source": [
    "Inserting missing values in Salary Column with mean."
   ]
  },
  {
   "cell_type": "code",
   "execution_count": 8,
   "id": "f4d3af48",
   "metadata": {
    "scrolled": true
   },
   "outputs": [
    {
     "name": "stdout",
     "output_type": "stream",
     "text": [
      "[['France' 44.0 72000.0 'No']\n",
      " ['Spain' 27.0 48000.0 'Yes']\n",
      " ['Germany' 30.0 54000.0 'No']\n",
      " ['Spain' 38.0 61000.0 'No']\n",
      " ['Germany' 40.0 63777.77777777778 'Yes']\n",
      " ['France' 35.0 58000.0 'Yes']\n",
      " ['Spain' 38.77777777777778 52000.0 'No']\n",
      " ['France' 48.0 79000.0 'Yes']\n",
      " ['Germany' 50.0 83000.0 'No']\n",
      " ['France' 37.0 67000.0 'Yes']]\n"
     ]
    }
   ],
   "source": [
    "from sklearn.impute import SimpleImputer\n",
    "x = dataset.iloc[:].values\n",
    "imputer = SimpleImputer(missing_values=np.nan, strategy='mean')\n",
    "imputer=imputer.fit(x[:,1:3])\n",
    "x[:,1:3]=imputer.transform(x[:,1:3])\n",
    "print(x)"
   ]
  },
  {
   "cell_type": "markdown",
   "id": "0c47d42a",
   "metadata": {},
   "source": [
    "Converting text category data to separate numeric values"
   ]
  },
  {
   "cell_type": "code",
   "execution_count": 9,
   "id": "a935292a",
   "metadata": {},
   "outputs": [
    {
     "name": "stdout",
     "output_type": "stream",
     "text": [
      "[[1.0 0.0 0.0 44.0 72000.0 'No']\n",
      " [0.0 0.0 1.0 27.0 48000.0 'Yes']\n",
      " [0.0 1.0 0.0 30.0 54000.0 'No']\n",
      " [0.0 0.0 1.0 38.0 61000.0 'No']\n",
      " [0.0 1.0 0.0 40.0 63777.77777777778 'Yes']\n",
      " [1.0 0.0 0.0 35.0 58000.0 'Yes']\n",
      " [0.0 0.0 1.0 38.77777777777778 52000.0 'No']\n",
      " [1.0 0.0 0.0 48.0 79000.0 'Yes']\n",
      " [0.0 1.0 0.0 50.0 83000.0 'No']\n",
      " [1.0 0.0 0.0 37.0 67000.0 'Yes']]\n"
     ]
    }
   ],
   "source": [
    "from sklearn.compose import ColumnTransformer\n",
    "from sklearn.preprocessing import OneHotEncoder\n",
    "n=ColumnTransformer(transformers=[('encoder', OneHotEncoder(),[0])],remainder='passthrough')\n",
    "x=np.array(n.fit_transform(x))\n",
    "print(x)"
   ]
  },
  {
   "cell_type": "markdown",
   "id": "e6997f7e",
   "metadata": {},
   "source": [
    "Binary substitution for the yes or no dependent variable"
   ]
  },
  {
   "cell_type": "code",
   "execution_count": 10,
   "id": "63114ee5",
   "metadata": {},
   "outputs": [
    {
     "name": "stdout",
     "output_type": "stream",
     "text": [
      "[0 1 0 0 1 1 0 1 0 1]\n"
     ]
    }
   ],
   "source": [
    "from sklearn.preprocessing import LabelEncoder\n",
    "b=LabelEncoder()\n",
    "y=b.fit_transform(dataset['Purchased'])\n",
    "print(y)"
   ]
  },
  {
   "cell_type": "code",
   "execution_count": 11,
   "id": "67d2a0fa",
   "metadata": {},
   "outputs": [
    {
     "name": "stdout",
     "output_type": "stream",
     "text": [
      "[[0.0 0.0 1.0 38.77777777777778 52000.0 'No']\n",
      " [0.0 1.0 0.0 40.0 63777.77777777778 'Yes']\n",
      " [1.0 0.0 0.0 44.0 72000.0 'No']\n",
      " [0.0 0.0 1.0 38.0 61000.0 'No']\n",
      " [0.0 0.0 1.0 27.0 48000.0 'Yes']\n",
      " [1.0 0.0 0.0 48.0 79000.0 'Yes']\n",
      " [0.0 1.0 0.0 50.0 83000.0 'No']\n",
      " [1.0 0.0 0.0 35.0 58000.0 'Yes']]\n"
     ]
    }
   ],
   "source": [
    "from sklearn.model_selection import train_test_split\n",
    "x_train ,x_test ,y_train ,y_test = train_test_split(x, y, test_size = 0.2, random_state = 1)\n",
    "print(x_train)"
   ]
  },
  {
   "cell_type": "code",
   "execution_count": 12,
   "id": "2429f5c3",
   "metadata": {},
   "outputs": [
    {
     "name": "stdout",
     "output_type": "stream",
     "text": [
      "[0 1 0 0 1 1 0 1]\n"
     ]
    }
   ],
   "source": [
    "print(y_train)"
   ]
  },
  {
   "cell_type": "code",
   "execution_count": 13,
   "id": "a83c8c00",
   "metadata": {},
   "outputs": [
    {
     "name": "stdout",
     "output_type": "stream",
     "text": [
      "[[0.0 1.0 0.0 30.0 54000.0 'No']\n",
      " [1.0 0.0 0.0 37.0 67000.0 'Yes']]\n"
     ]
    }
   ],
   "source": [
    "print(x_test)"
   ]
  },
  {
   "cell_type": "code",
   "execution_count": 14,
   "id": "62f66aba",
   "metadata": {},
   "outputs": [
    {
     "name": "stdout",
     "output_type": "stream",
     "text": [
      "[0 1]\n"
     ]
    }
   ],
   "source": [
    "print(y_test)"
   ]
  },
  {
   "cell_type": "markdown",
   "id": "cea1a539",
   "metadata": {},
   "source": [
    "# Standard Scaling\n",
    "The Standard score of a sample is calculated as:\n",
    "z = (x-u)/s"
   ]
  },
  {
   "cell_type": "code",
   "execution_count": 15,
   "id": "d5458ed2",
   "metadata": {
    "scrolled": true
   },
   "outputs": [
    {
     "name": "stdout",
     "output_type": "stream",
     "text": [
      "[[0.0 0.0 1.2909944487358056 -0.19159184384578545 52000.0 'No']\n",
      " [0.0 1.0 -0.7745966692414834 -0.014117293757057777 63777.77777777778\n",
      "  'Yes']\n",
      " [1.0 0.0 -0.7745966692414834 0.566708506533324 72000.0 'No']\n",
      " [0.0 0.0 1.2909944487358056 -0.30453019390224867 61000.0 'No']\n",
      " [0.0 0.0 1.2909944487358056 -1.9018011447007988 48000.0 'Yes']\n",
      " [1.0 0.0 -0.7745966692414834 1.1475343068237058 79000.0 'Yes']\n",
      " [0.0 1.0 -0.7745966692414834 1.4379472069688968 83000.0 'No']\n",
      " [1.0 0.0 -0.7745966692414834 -0.7401495441200351 58000.0 'Yes']]\n"
     ]
    }
   ],
   "source": [
    "from sklearn.preprocessing import StandardScaler\n",
    "s=StandardScaler()\n",
    "x_train[:, 2:4]=s.fit_transform(x_train[:, 2:4])\n",
    "x_test[:, 2:4]=s.fit_transform(x_test[:, 2:4])\n",
    "print(x_train)"
   ]
  },
  {
   "cell_type": "markdown",
   "id": "3678f492",
   "metadata": {},
   "source": [
    "Feature Scaling"
   ]
  },
  {
   "cell_type": "code",
   "execution_count": 16,
   "id": "d60d7951",
   "metadata": {},
   "outputs": [
    {
     "name": "stdout",
     "output_type": "stream",
     "text": [
      "[[0.0 1.0 0.0 -1.0 54000.0 'No']\n",
      " [1.0 0.0 0.0 1.0 67000.0 'Yes']]\n"
     ]
    }
   ],
   "source": [
    "print(x_test)"
   ]
  },
  {
   "cell_type": "code",
   "execution_count": null,
   "id": "dba6bfd7",
   "metadata": {},
   "outputs": [],
   "source": []
  },
  {
   "cell_type": "code",
   "execution_count": null,
   "id": "7da5dc2d",
   "metadata": {},
   "outputs": [],
   "source": []
  }
 ],
 "metadata": {
  "kernelspec": {
   "display_name": "Python 3 (ipykernel)",
   "language": "python",
   "name": "python3"
  },
  "language_info": {
   "codemirror_mode": {
    "name": "ipython",
    "version": 3
   },
   "file_extension": ".py",
   "mimetype": "text/x-python",
   "name": "python",
   "nbconvert_exporter": "python",
   "pygments_lexer": "ipython3",
   "version": "3.9.17"
  }
 },
 "nbformat": 4,
 "nbformat_minor": 5
}
